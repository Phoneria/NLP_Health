{
 "cells": [
  {
   "cell_type": "code",
   "execution_count": 89,
   "metadata": {},
   "outputs": [],
   "source": [
    "import pandas as pd\n",
    "from groq import Groq\n",
    "import json\n",
    "from prompts import * "
   ]
  },
  {
   "cell_type": "code",
   "execution_count": 57,
   "metadata": {},
   "outputs": [
    {
     "name": "stdout",
     "output_type": "stream",
     "text": [
      "0    Action On December 12, 2022, the firm notified...\n",
      "1    Action An Urgent Medical Device Recall letter ...\n",
      "2    Action On 12/13/2018 bioMerieux submitted a co...\n",
      "3    Action The firm initiated the recall by email ...\n",
      "4    Action Urgent Medical Device Recall letters, d...\n",
      "Name: ACTION, dtype: object\n"
     ]
    }
   ],
   "source": [
    "df = pd.read_excel(r\"C:\\Users\\AZMI\\Desktop\\Izzet Ahmet\\Kodlar\\Medical\\Data\\Processed\\merged_dataset.xlsx\")\n",
    "columns = [\"TRADE_NAME\",\"FIRM_NAME\",\"MANUFACTURER_RECALL_REASON\",\"ACTION\",\"Recall Type\"]\n",
    "df = df[columns]\n",
    "# Fetch 5 random rows from the dataset\n",
    "random_rows = df.sample(n=5, ignore_index= True)\n",
    "\n",
    "\n",
    "# Apply the function to each row and create the new \"prompt_input\" column\n",
    "random_rows[\"prompt_input\"] = random_rows.apply(create_prompt_input, axis=1)\n",
    "\n",
    "print(random_rows[\"ACTION\"])"
   ]
  },
  {
   "cell_type": "code",
   "execution_count": 77,
   "metadata": {},
   "outputs": [],
   "source": []
  },
  {
   "cell_type": "code",
   "execution_count": 72,
   "metadata": {},
   "outputs": [
    {
     "name": "stdout",
     "output_type": "stream",
     "text": [
      "TEXT :  Action On December 12, 2022, the firm notified affected customers through Urgent Medical Device Correction letters.******Customers were informed of the product issue. A Roche Diagnostics representative will contact you in the near future to assess your cobas infinity configuration and to determine if it meets all pre-conditions. If so, your Roche representative will work with you to implement a workaround immediately in addition to working with you to apply a more permanent solution via a software patch once available.******Customers should consult with a physician or pathologist at your facility to determine clinical implications specific to your patients.******Please contact the Roche Support Network Customer Support Center, 24 hours a day, seven days a week at 1-800-526-2272 if you have questions about this recall. \n",
      "• A Roche Diagnostics representative will contact you to assess your cobas infinity configuration and determine if it meets all pre-conditions.\n",
      "• Work with the representative to implement a workaround immediately and apply a more permanent solution via a software patch once available.\n",
      "• Consult with a physician or pathologist at your facility to determine clinical implications specific to your patients.\n",
      "• Contact the Roche Support Network Customer Support Center at 1-800-526-2272 if you have questions about this recall, and take the necessary actions.\n",
      "TEXT :  Action An Urgent Medical Device Recall letter was sent on 3/7/17 to inform customers that Beckman Coulter has determined through internal investigation that a circuit board that controls motor functions in the instrument systems listed above can affect device positioning on the pipettor and incubator belt while the instrument is running.  Customers are informed of the impact, action to be taken, and the resolution.  Customers are instructed to complete and return the enclosed Response Form within 10 days.  Customers with any questions are instructed to contact Customer Technical Support******Center:****** From our website: http://www.beckmancoulter.com****** By phone: call 1-800-854-3633 in the United States and Canada.****** Outside the United States and Canada, contact your local Beckman Coulter******representative. \n",
      "• Complete and return the enclosed Response Form.\n",
      "• Contact Customer Technical Support with any questions:\n",
      "  ▪ From our website: http://www.beckmancoulter.com\n",
      "  ▪ By phone: call 1-800-854-3633 in the United States and Canada\n",
      "  ▪ Outside the United States and Canada, contact your local Beckman Coulter representative.\n",
      "These actions are required to resolve the issue with the device positioning on the pipettor and incubator belt.\n",
      "TEXT :  Action On 12/13/2018 bioMerieux submitted a communication to their distributor in the UK stating the following:************Our Ref:  4191-1 FSCA******Dear Valued bioMrieux Customer,************Our records indicate that your laboratory uses the VITEK 2 System in conjunction with the VITEK 2 AST-N351 test kit.  ************Description of Issue:******bioMrieux has received reports from VITEK 2 customers that an unexpected ESBL (Extended Spectrum Beta Lactamase) phenotype has been proposed for some Escherichia coli strains in conjunction with the VITEK 2 AST-N351 (ref. 421257) test kit.************When an ESBL phenotype is proposed by VITEK 2 Systems Software AES (Advanced Expert System), the result is stopped for review by the user.  The intent of the review is that the laboratory personnel take measures to confirm the proposed ESBL phenotype makes sense based on all information available, and perform confirmatory testing if deemed appropriate. ************Internal bioMrieux investigations concluded that within the VITEK 2 Systems Software version 8.01/9.01 AES (Advanced Expert System) module, the MIC (Minimum Inhibitory Concentration) ranges for Escherichia coli and pipericillin/tazobactam were changed for the ***Acquired Penicillinase*** and ***Inhibitor Resistant Penicillinase*** phenotypes.  These changes consisted of removing MICs >=128 mg/L as possible MICs for both phenotypes.  ************This change revealed an issue in the AES definition of the cefuroxime MIC range for Escherichia coli and ESBLs (the MIC range is too broad; cefuroxime MIC <=8 mg/L should prevent the ESBL phenotype proposal).  This, in addition to the specific antibiotic configuration of the AST-N351 card and absence of the ESBL test, is the root cause of the reported increase in ESBL phenotype proposal for the AST-N351 card.************Implementation of a bioART\" rule with the following criteria will prevent inappropriate proposal of the ESBL phenotype related to this anomaly (reference Appendix A for detailed instructions):******\"***If the card is AST-N351******\"***And the ph \n",
      "Here is the rewritten text:\n",
      "\n",
      "**Actions to Prevent Inappropriate ESBL Phenotype Proposal:**\n",
      "\n",
      "• Implement a bioART rule with the following criteria:\n",
      "  • If the card is AST-N351\n",
      "  • And the phenotype is ***Acquired Penicillinase*** or ***Inhibitor Resistant Penicillinase***\n",
      "  • And the MIC range for cefuroxime is <=8 mg/L\n",
      "• Prevent the ESBL phenotype proposal by reviewing the result and taking measures to confirm it based on all available information\n",
      "• Perform confirmatory testing if deemed appropriate\n",
      "• Update the AES definition of the cefuroxime MIC range for Escherichia coli and ESBLs to prevent the ESBL phenotype proposal\n",
      "TEXT :  Action The firm initiated the recall by email on 08/28/2018.  The firm will be removing the 3rd party software from the interface and replacing it with new software and notify the affected customers when the action is completed. \n",
      "• The firm will remove the 3rd party software from the interface and replace it with new software.\n",
      "• The firm will notify the affected customers when the actions are completed.\n",
      "• Wait for notification from the firm regarding the completion of the actions.\n",
      "TEXT :  Action Urgent Medical Device Recall letters, dated July 30, 2018, were sent via email and postal mail on August 1, 2018 (for those customers not on their email notification system).  On 05/22/19, second Urgent Medical Device (UMDC) Recall letters, and Important Safety Information notices, dated May 20, 2019 (replacing BEC UMDC letter dated July 30, 2018), were sent via mail and/or phone and/or e-mail informing customers perform the following actions:****** ******- Run samples on an instrument not subject to this recall to confirm the platelet results. ******- If an alternative instrument is not available, use the following quality control measures to aid in identification of discrepant platelet results:************a) Perform manual scanning/estimate of platelets on a peripheral smear and compare with instrument results. Note that this method will identify samples with marked to moderate thrombocytopenia but may not identify smaller discrepancies.******b) Repeat testing of samples in a workflow configuration may facilitate the identification of discrepancies. If an erroneous result is detected, review results from adjacent samples, i.e., those tested on the instrument both before and after the erroneous result.******c) Additional instrument and/or LIS features including reference ranges, XM (exponentially-weighted moving average) and delta checks may be informative.******d) Follow your laboratory's standard operating procedure to confirm unexpected results.************- Ongoing investigation indicates that the probable root cause is the sweep flow disruption that may occur following the \"Clear RBC Apertures\" procedure. This potential root cause is currently under further investigation. Customers should discontinue using this procedure. If you suspect that your instrument has a clogged aperture that will not clear, discontinue use of the analyzer, contact Customer Support Center and request service.************- Communicate to the ordering physicians the need to avoid patient treatment based solely on any single test resu \n",
      "Here are the instructions:\n",
      "\n",
      "• Run samples on an instrument not subject to this recall to confirm the platelet results.\n",
      "\n",
      "• If an alternative instrument is not available, take the following quality control actions:\n",
      "  • Perform manual scanning/estimate of platelets on a peripheral smear and compare with instrument results.\n",
      "  • Repeat testing of samples in a workflow configuration to facilitate the identification of discrepancies.\n",
      "  • Utilize additional instrument and/or LIS features including reference ranges, XM, and delta checks.\n",
      "  • Follow your laboratory's standard operating procedure to confirm unexpected results.\n",
      "\n",
      "• Discontinue using the \"Clear RBC Apertures\" procedure.\n",
      "\n",
      "• If you suspect that your instrument has a clogged aperture that will not clear, discontinue use of the analyzer and contact Customer Support Center for service.\n",
      "\n",
      "• Communicate to ordering physicians the need to avoid patient treatment based solely on any single test result.\n",
      "\n",
      "Note: These actions are crucial to ensure accurate platelet results and patient safety.\n",
      "                                              ACTION  \\\n",
      "0  Action On December 12, 2022, the firm notified...   \n",
      "1  Action An Urgent Medical Device Recall letter ...   \n",
      "2  Action On 12/13/2018 bioMerieux submitted a co...   \n",
      "3  Action The firm initiated the recall by email ...   \n",
      "4  Action Urgent Medical Device Recall letters, d...   \n",
      "\n",
      "                                    processed_ACTION  \n",
      "0  • A Roche Diagnostics representative will cont...  \n",
      "1  • Complete and return the enclosed Response Fo...  \n",
      "2  Here is the rewritten text:\\n\\n**Actions to Pr...  \n",
      "3  • The firm will remove the 3rd party software ...  \n",
      "4  Here are the instructions:\\n\\n• Run samples on...  \n"
     ]
    }
   ],
   "source": [
    "\n",
    "# Apply the function to each row in the DataFrame\n",
    "random_rows['processed_ACTION'] = random_rows['ACTION'].apply(process_action_text)\n",
    "\n",
    "# Print the modified DataFrame to view results\n",
    "print(random_rows[['ACTION', 'processed_ACTION']])\n"
   ]
  },
  {
   "cell_type": "code",
   "execution_count": 80,
   "metadata": {},
   "outputs": [],
   "source": [
    "random_rows = random_rows.drop([\"TRADE_NAME\",\t\"FIRM_NAME\",\t\"MANUFACTURER_RECALL_REASON\",\t\"ACTION\",\t\"Recall Type\"],axis=1)"
   ]
  },
  {
   "cell_type": "code",
   "execution_count": 88,
   "metadata": {},
   "outputs": [
    {
     "data": {
      "text/plain": [
       "'{\"TRADE_NAME\": \"cobas infinity central lab\", \"FIRM_NAME\": \"Roche Diagnostics Operations, Inc.\", \"MANUFACTURER_RECALL_REASON\": \"A complaint investigation revealed that an incorrect behavior relating to the rejection of orders capability of the Host Connectivity Agent (HCA) could occur where the order received from the Laboratory Information System (LIS) is created with an Internal ID rather than the External ID sent from the LIS. The erroneous event occurs under rare circumstances where the date in the sample\\'s barcode does not match the order date sent from the LIS, and can lead to the order being mismatched to an another patient\\'s sample ID rather than the subject patient\\'s sample ID. The software bug impacts multiple cobas infinity central lab software (versions 2.5.x , 3.01.x, 3.02.x, and 3.03.x) and occurs when the afflicted software has been configured with specific pre-conditions.\", \"Recall Type\": \"SoftwareDesign\"}'"
      ]
     },
     "execution_count": 88,
     "metadata": {},
     "output_type": "execute_result"
    }
   ],
   "source": [
    "(random_rows[\"prompt_input\"][0])"
   ]
  },
  {
   "cell_type": "code",
   "execution_count": null,
   "metadata": {},
   "outputs": [],
   "source": []
  }
 ],
 "metadata": {
  "kernelspec": {
   "display_name": "base",
   "language": "python",
   "name": "python3"
  },
  "language_info": {
   "codemirror_mode": {
    "name": "ipython",
    "version": 3
   },
   "file_extension": ".py",
   "mimetype": "text/x-python",
   "name": "python",
   "nbconvert_exporter": "python",
   "pygments_lexer": "ipython3",
   "version": "3.12.7"
  }
 },
 "nbformat": 4,
 "nbformat_minor": 2
}
